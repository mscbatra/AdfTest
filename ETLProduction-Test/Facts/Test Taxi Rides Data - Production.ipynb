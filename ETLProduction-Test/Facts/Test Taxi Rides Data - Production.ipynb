{
 "cells": [
  {
   "cell_type": "code",
   "execution_count": 0,
   "metadata": {
    "application/vnd.databricks.v1+cell": {
     "cellMetadata": {
      "byteLimit": 2048000,
      "rowLimit": 10000
     },
     "inputWidgets": {},
     "nuid": "87aaf8af-8262-4aa9-9f43-ac649353fe84",
     "showTitle": false,
     "tableResultSettingsMap": {},
     "title": ""
    }
   },
   "outputs": [],
   "source": [
    "dbutils.widgets.text(\"ProcessMonth\", \"202412\", \"Month (YYYYMM)\")"
   ]
  },
  {
   "cell_type": "code",
   "execution_count": 0,
   "metadata": {
    "application/vnd.databricks.v1+cell": {
     "cellMetadata": {
      "byteLimit": 2048000,
      "rowLimit": 10000
     },
     "inputWidgets": {},
     "nuid": "4ea4e029-3417-4fa6-bf31-3727208b3768",
     "showTitle": false,
     "tableResultSettingsMap": {},
     "title": ""
    }
   },
   "outputs": [],
   "source": [
    "processMonth = dbutils.widgets.get(\"ProcessMonth\")\n",
    "\n",
    "print(processMonth)"
   ]
  },
  {
   "cell_type": "code",
   "execution_count": 0,
   "metadata": {
    "application/vnd.databricks.v1+cell": {
     "cellMetadata": {
      "byteLimit": 2048000,
      "rowLimit": 10000
     },
     "inputWidgets": {},
     "nuid": "4e852089-4e7c-44c3-ae43-29b41ee4a7a4",
     "showTitle": true,
     "tableResultSettingsMap": {},
     "title": "Without Unity Catalog - Authenticate to Data Lake using Access Key"
    }
   },
   "outputs": [],
   "source": [
    "# Run only if not using Unity Catalog\n",
    "\n",
    "# Replace the values: *** Data Lake Name ***, *** Data Lake Access Key ***\n",
    "\n",
    "#storage_account_name = \"*** Data Lake Name ***\"\n",
    "#storage_account_access_key = \"*** Data Lake Access Key ***\"\n",
    "\n",
    "#spark.conf.set(f\"fs.azure.account.key.{storage_account_name}.dfs.core.windows.net\", storage_account_access_key)"
   ]
  },
  {
   "cell_type": "markdown",
   "metadata": {
    "application/vnd.databricks.v1+cell": {
     "cellMetadata": {},
     "inputWidgets": {},
     "nuid": "d8531b69-5a15-436d-9b72-c1c4f4bcb6fc",
     "showTitle": false,
     "tableResultSettingsMap": {},
     "title": ""
    }
   },
   "source": [
    "### A. Define File Path"
   ]
  },
  {
   "cell_type": "code",
   "execution_count": 0,
   "metadata": {
    "application/vnd.databricks.v1+cell": {
     "cellMetadata": {
      "byteLimit": 2048000,
      "rowLimit": 10000
     },
     "inputWidgets": {},
     "nuid": "79137dfa-a55d-462d-9ec9-2dfdb1798a12",
     "showTitle": true,
     "tableResultSettingsMap": {},
     "title": "Define file path as variable"
    }
   },
   "outputs": [],
   "source": [
    "# Replace the values: ***ContainerName***, ***DataLakeName*** and file path (if required)\n",
    "\n",
    "#yellowTaxisFilePath = \"abfss://taxidata@mstrainingdatalake.dfs.core.windows.net/Raw/YellowTaxis/YellowTaxis_202501.csv\"\n",
    "\n",
    "yellowTaxisFilePath = f\"abfss://taxidata@mstrainingdatalake.dfs.core.windows.net/Raw/YellowTaxis/YellowTaxis_{processMonth}.csv\"\n",
    "\n",
    "print(yellowTaxisFilePath)"
   ]
  },
  {
   "cell_type": "markdown",
   "metadata": {
    "application/vnd.databricks.v1+cell": {
     "cellMetadata": {},
     "inputWidgets": {},
     "nuid": "2cf85a4b-cf8c-450b-b647-f5902336efe0",
     "showTitle": false,
     "tableResultSettingsMap": {},
     "title": ""
    }
   },
   "source": [
    "### B. Read File by Applying Schema"
   ]
  },
  {
   "cell_type": "code",
   "execution_count": 0,
   "metadata": {
    "application/vnd.databricks.v1+cell": {
     "cellMetadata": {
      "byteLimit": 2048000,
      "rowLimit": 10000
     },
     "inputWidgets": {},
     "nuid": "edef4113-8c16-412d-9811-55e18c2bf3b4",
     "showTitle": true,
     "tableResultSettingsMap": {},
     "title": "Define schema"
    }
   },
   "outputs": [],
   "source": [
    "from pyspark.sql.types import *\n",
    "from pyspark.sql.functions import *\n",
    "\n",
    "# Create schema for Yellow Taxi Data\n",
    "\n",
    "yellowTaxiSchema = (\n",
    "                        StructType\n",
    "                        ([ \n",
    "                            StructField(\"VendorId\"               , IntegerType()   , True),\n",
    "                            StructField(\"lpep_pickup_datetime\"   , TimestampType() , True),\n",
    "                            StructField(\"lpep_dropoff_datetime\"  , TimestampType() , True),\n",
    "                            StructField(\"passenger_count\"        , DoubleType()    , True),\n",
    "                            StructField(\"trip_distance\"          , DoubleType()    , True),\n",
    "                            StructField(\"RatecodeID\"             , DoubleType()    , True),\n",
    "                            StructField(\"store_and_fwd_flag\"     , StringType()    , True),\n",
    "                            StructField(\"PULocationID\"           , IntegerType()   , True),\n",
    "                            StructField(\"DOLocationID\"           , IntegerType()   , True),\n",
    "                            StructField(\"payment_type\"           , IntegerType()   , True),\n",
    "                            StructField(\"fare_amount\"            , DoubleType()    , True),\n",
    "                            StructField(\"extra\"                  , DoubleType()    , True),\n",
    "                            StructField(\"mta_tax\"                , DoubleType()    , True),\n",
    "                            StructField(\"tip_amount\"             , DoubleType()    , True),\n",
    "                            StructField(\"tolls_amount\"           , DoubleType()    , True),\n",
    "                            StructField(\"improvement_surcharge\"  , DoubleType()    , True),\n",
    "                            StructField(\"total_amount\"           , DoubleType()    , True),\n",
    "                            StructField(\"congestion_surcharge\"   , DoubleType()    , True),\n",
    "                            StructField(\"airport_fee\"            , DoubleType()    , True)\n",
    "                        ])\n",
    "                   )"
   ]
  },
  {
   "cell_type": "code",
   "execution_count": 0,
   "metadata": {
    "application/vnd.databricks.v1+cell": {
     "cellMetadata": {
      "byteLimit": 2048000,
      "rowLimit": 10000
     },
     "inputWidgets": {},
     "nuid": "8e85ecc5-2e9a-429e-9dae-7c4d6381db75",
     "showTitle": true,
     "tableResultSettingsMap": {},
     "title": "Read data by passing schema"
    }
   },
   "outputs": [],
   "source": [
    "# Create DataFrame by applying the schema\n",
    "\n",
    "yellowTaxiDF = (\n",
    "                    spark\n",
    "                        .read\n",
    "                        .option(\"header\", \"true\")\n",
    "\n",
    "                        .schema(yellowTaxiSchema)\n",
    "\n",
    "                        .csv(yellowTaxisFilePath)\n",
    "                )\n",
    "\n",
    "# Print schema\n",
    "yellowTaxiDF.printSchema()"
   ]
  },
  {
   "cell_type": "markdown",
   "metadata": {
    "application/vnd.databricks.v1+cell": {
     "cellMetadata": {},
     "inputWidgets": {},
     "nuid": "50346eb2-f6e2-4b3d-8e79-79090df97fee",
     "showTitle": false,
     "tableResultSettingsMap": {},
     "title": ""
    }
   },
   "source": [
    "### C. Clean Data"
   ]
  },
  {
   "cell_type": "markdown",
   "metadata": {
    "application/vnd.databricks.v1+cell": {
     "cellMetadata": {},
     "inputWidgets": {},
     "nuid": "99f51e6c-182f-4e31-8716-55cbaa7ff433",
     "showTitle": false,
     "tableResultSettingsMap": {},
     "title": ""
    }
   },
   "source": [
    "#### C.1. Accuracy Check: Filter inaccurate data"
   ]
  },
  {
   "cell_type": "code",
   "execution_count": 0,
   "metadata": {
    "application/vnd.databricks.v1+cell": {
     "cellMetadata": {
      "byteLimit": 2048000,
      "rowLimit": 10000
     },
     "inputWidgets": {},
     "nuid": "c61bb4ca-6bac-45c5-ad11-11b2cc019574",
     "showTitle": true,
     "tableResultSettingsMap": {},
     "title": "Use where/filter"
    }
   },
   "outputs": [],
   "source": [
    "yellowTaxiDF = (\n",
    "                  yellowTaxiDF\n",
    "    \n",
    "                      .where(\"passenger_count > 0\")\n",
    "\n",
    "                      .filter(col(\"trip_distance\") > 0.0)\n",
    "               )"
   ]
  },
  {
   "cell_type": "markdown",
   "metadata": {
    "application/vnd.databricks.v1+cell": {
     "cellMetadata": {
      "byteLimit": 2048000,
      "rowLimit": 10000
     },
     "inputWidgets": {},
     "nuid": "9dfe9f32-4c42-4a55-9584-e4809b4eae0b",
     "showTitle": false,
     "tableResultSettingsMap": {},
     "title": ""
    }
   },
   "source": [
    "#### C.2. (a) Completeness Check: Drop rows with nulls"
   ]
  },
  {
   "cell_type": "code",
   "execution_count": 0,
   "metadata": {
    "application/vnd.databricks.v1+cell": {
     "cellMetadata": {
      "byteLimit": 2048000,
      "rowLimit": 10000
     },
     "inputWidgets": {},
     "nuid": "3eca9834-fcbc-4fb5-ae57-fae3181aa41d",
     "showTitle": true,
     "tableResultSettingsMap": {},
     "title": "Use na.drop"
    }
   },
   "outputs": [],
   "source": [
    "yellowTaxiDF = (\n",
    "                   yellowTaxiDF    \n",
    "                          .na.drop('all')\n",
    "               )"
   ]
  },
  {
   "cell_type": "markdown",
   "metadata": {
    "application/vnd.databricks.v1+cell": {
     "cellMetadata": {
      "byteLimit": 2048000,
      "rowLimit": 10000
     },
     "inputWidgets": {},
     "nuid": "954eb466-d4dd-4f33-ab0a-3481a7fb4d43",
     "showTitle": false,
     "tableResultSettingsMap": {},
     "title": ""
    }
   },
   "source": [
    "#### C.2. (b) Completeness Check: Replace nulls with default values"
   ]
  },
  {
   "cell_type": "code",
   "execution_count": 0,
   "metadata": {
    "application/vnd.databricks.v1+cell": {
     "cellMetadata": {
      "byteLimit": 2048000,
      "rowLimit": 10000
     },
     "inputWidgets": {},
     "nuid": "f6cf80b1-89a0-4662-88a4-4d927c5a7272",
     "showTitle": true,
     "tableResultSettingsMap": {},
     "title": "Use na.fill"
    }
   },
   "outputs": [],
   "source": [
    "defaultValueMap = {'payment_type': 5, 'RateCodeID': 1}\n",
    "\n",
    "\n",
    "yellowTaxiDF = (\n",
    "                   yellowTaxiDF    \n",
    "                      .na.fill(defaultValueMap)\n",
    "               )"
   ]
  },
  {
   "cell_type": "markdown",
   "metadata": {
    "application/vnd.databricks.v1+cell": {
     "cellMetadata": {
      "byteLimit": 2048000,
      "rowLimit": 10000
     },
     "inputWidgets": {},
     "nuid": "f7f524ef-6058-4802-80a4-8495cee4cae0",
     "showTitle": false,
     "tableResultSettingsMap": {},
     "title": ""
    }
   },
   "source": [
    "#### C.3. Uniqueness Check: Drop duplicate rows"
   ]
  },
  {
   "cell_type": "code",
   "execution_count": 0,
   "metadata": {
    "application/vnd.databricks.v1+cell": {
     "cellMetadata": {
      "byteLimit": 2048000,
      "rowLimit": 10000
     },
     "inputWidgets": {},
     "nuid": "5f0a47cd-fbe6-4537-a812-ece59a70e0ed",
     "showTitle": true,
     "tableResultSettingsMap": {},
     "title": "Use dropDuplicates"
    }
   },
   "outputs": [],
   "source": [
    "yellowTaxiDF = (\n",
    "                   yellowTaxiDF\n",
    "                          .dropDuplicates()\n",
    "               )"
   ]
  },
  {
   "cell_type": "markdown",
   "metadata": {
    "application/vnd.databricks.v1+cell": {
     "cellMetadata": {
      "byteLimit": 2048000,
      "rowLimit": 10000
     },
     "inputWidgets": {},
     "nuid": "a46b3b72-9f1d-48a9-af4f-d6e068120769",
     "showTitle": false,
     "tableResultSettingsMap": {},
     "title": ""
    }
   },
   "source": [
    "#### C.4. Timeliness Check: Remove records outside the bound"
   ]
  },
  {
   "cell_type": "code",
   "execution_count": 0,
   "metadata": {
    "application/vnd.databricks.v1+cell": {
     "cellMetadata": {
      "byteLimit": 2048000,
      "rowLimit": 10000
     },
     "inputWidgets": {},
     "nuid": "8075e11a-5f23-4dfe-a914-f646fcec33ca",
     "showTitle": true,
     "tableResultSettingsMap": {},
     "title": "Use where/filter"
    }
   },
   "outputs": [],
   "source": [
    "yellowTaxiDF = (\n",
    "    \n",
    "                    yellowTaxiDF\n",
    "                        .where(\"lpep_pickup_datetime >= '2025-01-01' AND lpep_dropoff_datetime < '2025-02-01'\")\n",
    "               )"
   ]
  },
  {
   "cell_type": "markdown",
   "metadata": {
    "application/vnd.databricks.v1+cell": {
     "cellMetadata": {
      "byteLimit": 2048000,
      "rowLimit": 10000
     },
     "inputWidgets": {},
     "nuid": "436d5657-9a40-4592-a71c-5c97a4eea798",
     "showTitle": false,
     "tableResultSettingsMap": {},
     "title": ""
    }
   },
   "source": [
    "### D. Transform Data"
   ]
  },
  {
   "cell_type": "markdown",
   "metadata": {
    "application/vnd.databricks.v1+cell": {
     "cellMetadata": {
      "byteLimit": 2048000,
      "rowLimit": 10000
     },
     "inputWidgets": {},
     "nuid": "5d751aa0-9455-45ab-9758-c289906c85f0",
     "showTitle": false,
     "tableResultSettingsMap": {},
     "title": ""
    }
   },
   "source": [
    "#### D.1. Select Limited Columns"
   ]
  },
  {
   "cell_type": "code",
   "execution_count": 0,
   "metadata": {
    "application/vnd.databricks.v1+cell": {
     "cellMetadata": {
      "byteLimit": 2048000,
      "rowLimit": 10000
     },
     "inputWidgets": {},
     "nuid": "0f6dab93-5a38-43c8-85bf-28f2e12d813f",
     "showTitle": true,
     "tableResultSettingsMap": {},
     "title": "Use select"
    }
   },
   "outputs": [],
   "source": [
    "yellowTaxiDF = (\n",
    "                   yellowTaxiDF\n",
    "\n",
    "                        # Select only limited columns\n",
    "                        .select(\n",
    "                                  \"VendorID\",\n",
    "                             \n",
    "                                  col(\"passenger_count\").cast(IntegerType()),\n",
    "                            \n",
    "                                  column(\"trip_distance\").alias(\"TripDistance\"),\n",
    "                            \n",
    "                                  yellowTaxiDF.lpep_pickup_datetime,\n",
    "                            \n",
    "                                  \"lpep_dropoff_datetime\",\n",
    "                                  \"PUlocationID\",\n",
    "                                  \"DOlocationID\",\n",
    "                                  \"RatecodeID\",\n",
    "                                  \"total_amount\",\n",
    "                                  \"payment_type\"\n",
    "                               )\n",
    "               )"
   ]
  },
  {
   "cell_type": "markdown",
   "metadata": {
    "application/vnd.databricks.v1+cell": {
     "cellMetadata": {
      "byteLimit": 2048000,
      "rowLimit": 10000
     },
     "inputWidgets": {},
     "nuid": "dee049fe-5a8c-4577-8d3d-1286b86a6494",
     "showTitle": false,
     "tableResultSettingsMap": {},
     "title": ""
    }
   },
   "source": [
    "#### D.2. Rename Columns"
   ]
  },
  {
   "cell_type": "code",
   "execution_count": 0,
   "metadata": {
    "application/vnd.databricks.v1+cell": {
     "cellMetadata": {
      "byteLimit": 2048000,
      "rowLimit": 10000
     },
     "inputWidgets": {},
     "nuid": "2541a7c8-4923-4d65-8447-80afb4295a08",
     "showTitle": true,
     "tableResultSettingsMap": {},
     "title": "Use withColumnRenamed"
    }
   },
   "outputs": [],
   "source": [
    "yellowTaxiDF = (\n",
    "                   yellowTaxiDF                        \n",
    "                        \n",
    "                        .withColumnRenamed(\"passenger_count\", \"PassengerCount\")\n",
    "    \n",
    "                        .withColumnRenamed(\"lpep_pickup_datetime\", \"PickupTime\")\n",
    "                        .withColumnRenamed(\"lpep_dropoff_datetime\", \"DropTime\")\n",
    "                        .withColumnRenamed(\"PUlocationID\", \"PickupLocationId\")\n",
    "                        .withColumnRenamed(\"DOlocationID\", \"DropLocationId\")\n",
    "                        .withColumnRenamed(\"total_amount\", \"TotalAmount\")\n",
    "                        .withColumnRenamed(\"payment_type\", \"PaymentType\")    \n",
    "               )"
   ]
  },
  {
   "cell_type": "markdown",
   "metadata": {
    "application/vnd.databricks.v1+cell": {
     "cellMetadata": {
      "byteLimit": 2048000,
      "rowLimit": 10000
     },
     "inputWidgets": {},
     "nuid": "0391e99e-e1f6-439a-b7d9-7e86fc68e9d0",
     "showTitle": false,
     "tableResultSettingsMap": {},
     "title": ""
    }
   },
   "source": [
    "#### D.3. (a) Create Derived Columns - TripYear, TripMonth, TripDay"
   ]
  },
  {
   "cell_type": "code",
   "execution_count": 0,
   "metadata": {
    "application/vnd.databricks.v1+cell": {
     "cellMetadata": {
      "byteLimit": 2048000,
      "rowLimit": 10000
     },
     "inputWidgets": {},
     "nuid": "40cc79a3-5d86-4ff1-bf84-ab06c3f65817",
     "showTitle": true,
     "tableResultSettingsMap": {},
     "title": "Use withColumn and select"
    }
   },
   "outputs": [],
   "source": [
    "# Create derived columns for year, month and day\n",
    "yellowTaxiDF = (\n",
    "                  yellowTaxiDF\n",
    "    \n",
    "                        .withColumn(\"TripYear\", year(col(\"PickupTime\")))\n",
    "    \n",
    "                        .select(\n",
    "                                    \"*\",\n",
    "                            \n",
    "                                    expr(\"month(PickupTime) AS TripMonth\"),\n",
    "                            \n",
    "                                    dayofmonth(col(\"PickupTime\")).alias(\"TripDay\")\n",
    "                               )\n",
    "               )"
   ]
  },
  {
   "cell_type": "markdown",
   "metadata": {
    "application/vnd.databricks.v1+cell": {
     "cellMetadata": {
      "byteLimit": 2048000,
      "rowLimit": 10000
     },
     "inputWidgets": {},
     "nuid": "9b4c623a-9f06-4ac3-a13b-51d33893a7fe",
     "showTitle": false,
     "tableResultSettingsMap": {},
     "title": ""
    }
   },
   "source": [
    "#### D.3. (b) Create Derived Column - TripTimeInMinutes"
   ]
  },
  {
   "cell_type": "code",
   "execution_count": 0,
   "metadata": {
    "application/vnd.databricks.v1+cell": {
     "cellMetadata": {
      "byteLimit": 2048000,
      "rowLimit": 10000
     },
     "inputWidgets": {},
     "nuid": "8b7099c6-8f8a-4340-abf2-ad23726b145b",
     "showTitle": true,
     "tableResultSettingsMap": {},
     "title": "Use dynamic expression"
    }
   },
   "outputs": [],
   "source": [
    "tripTimeInSecondsExpr = unix_timestamp(col(\"DropTime\")) - unix_timestamp(col(\"PickupTime\"))\n",
    "\n",
    "tripTimeInMinutesExpr = round(tripTimeInSecondsExpr / 60)\n",
    "\n",
    "\n",
    "yellowTaxiDF = (\n",
    "                  yellowTaxiDF\n",
    "                        .withColumn(\"TripTimeInMinutes\", tripTimeInMinutesExpr)\n",
    "               )"
   ]
  },
  {
   "cell_type": "markdown",
   "metadata": {
    "application/vnd.databricks.v1+cell": {
     "cellMetadata": {
      "byteLimit": 2048000,
      "rowLimit": 10000
     },
     "inputWidgets": {},
     "nuid": "9dc4eeb6-0cfc-4cbd-9f67-7c84f479caab",
     "showTitle": false,
     "tableResultSettingsMap": {},
     "title": ""
    }
   },
   "source": [
    "#### D.3. (c) Create Derived Column - TripType"
   ]
  },
  {
   "cell_type": "code",
   "execution_count": 0,
   "metadata": {
    "application/vnd.databricks.v1+cell": {
     "cellMetadata": {
      "byteLimit": 2048000,
      "rowLimit": 10000
     },
     "inputWidgets": {},
     "nuid": "94b11d29-0b50-404c-84cf-79258b2a2c66",
     "showTitle": true,
     "tableResultSettingsMap": {},
     "title": "Use when-otherwise"
    }
   },
   "outputs": [],
   "source": [
    "tripTypeColumn = (\n",
    "                    when(\n",
    "                            col(\"RatecodeID\") == 6,\n",
    "                              \"SharedTrip\"\n",
    "                         )\n",
    "                    .otherwise(\"SoloTrip\")\n",
    "                 )    \n",
    "\n",
    "\n",
    "yellowTaxiDF = (\n",
    "                  yellowTaxiDF\n",
    "    \n",
    "                        .withColumn(\"TripType\", tripTypeColumn)\n",
    "               )"
   ]
  },
  {
   "cell_type": "markdown",
   "metadata": {
    "application/vnd.databricks.v1+cell": {
     "cellMetadata": {
      "byteLimit": 2048000,
      "rowLimit": 10000
     },
     "inputWidgets": {},
     "nuid": "4e7b2223-b7ac-47d6-9c84-9bd21b899b28",
     "showTitle": false,
     "tableResultSettingsMap": {},
     "title": ""
    }
   },
   "source": [
    "### E. Save Data to Data Lake as Spark (Delta) Table"
   ]
  },
  {
   "cell_type": "markdown",
   "metadata": {
    "application/vnd.databricks.v1+cell": {
     "cellMetadata": {
      "byteLimit": 2048000,
      "rowLimit": 10000
     },
     "inputWidgets": {},
     "nuid": "e56d48bf-2678-4007-8c20-e345d122ad63",
     "showTitle": false,
     "tableResultSettingsMap": {},
     "title": ""
    }
   },
   "source": [
    "#### E.1. Create Catalog and Schema in Unity Catalog"
   ]
  },
  {
   "cell_type": "code",
   "execution_count": 0,
   "metadata": {
    "application/vnd.databricks.v1+cell": {
     "cellMetadata": {
      "byteLimit": 2048000,
      "implicitDf": true,
      "rowLimit": 10000
     },
     "inputWidgets": {},
     "nuid": "488b5b74-850d-4a1c-b126-508ff5a4ab1d",
     "showTitle": true,
     "tableResultSettingsMap": {},
     "title": "Using SQL"
    }
   },
   "outputs": [],
   "source": [
    "%sql\n",
    "\n",
    "CREATE CATALOG IF NOT EXISTS taxicatalog;\n",
    "\n",
    "CREATE SCHEMA IF NOT EXISTS taxicatalog.rides;\n",
    "\n",
    "-- For Hive Metastore\n",
    "-- CREATE SCHEMA IF NOT EXISTS hive_metastore.rides;"
   ]
  },
  {
   "cell_type": "markdown",
   "metadata": {
    "application/vnd.databricks.v1+cell": {
     "cellMetadata": {
      "byteLimit": 2048000,
      "rowLimit": 10000
     },
     "inputWidgets": {},
     "nuid": "b86efc10-dab8-42b3-b95e-5576a5892455",
     "showTitle": false,
     "tableResultSettingsMap": {},
     "title": ""
    }
   },
   "source": [
    "#### E.2. Save DataFrame as Delta Table"
   ]
  },
  {
   "cell_type": "code",
   "execution_count": 0,
   "metadata": {
    "application/vnd.databricks.v1+cell": {
     "cellMetadata": {
      "byteLimit": 2048000,
      "rowLimit": 10000
     },
     "inputWidgets": {},
     "nuid": "456a4420-2f91-4149-b895-b7124217d879",
     "showTitle": true,
     "tableResultSettingsMap": {},
     "title": "Store data in delta format"
    }
   },
   "outputs": [],
   "source": [
    "(\n",
    "    yellowTaxiDF\n",
    "        .write\n",
    "\n",
    "        .mode(\"append\")\n",
    "\n",
    "        .partitionBy(\"VendorID\")\n",
    "\n",
    "        .format(\"delta\")\n",
    "\n",
    "        .saveAsTable(\"taxicatalog.rides.yellowtaxis\")\n",
    ")"
   ]
  },
  {
   "cell_type": "code",
   "execution_count": 0,
   "metadata": {
    "application/vnd.databricks.v1+cell": {
     "cellMetadata": {
      "byteLimit": 2048000,
      "rowLimit": 10000
     },
     "inputWidgets": {},
     "nuid": "12e83bca-a9ae-4567-9237-bf48525d557b",
     "showTitle": false,
     "tableResultSettingsMap": {},
     "title": ""
    }
   },
   "outputs": [],
   "source": [
    "dbutils.notebook.exit(\"success\")"
   ]
  }
 ],
 "metadata": {
  "application/vnd.databricks.v1+notebook": {
   "computePreferences": null,
   "dashboards": [
    {
     "elements": [],
     "globalVars": {},
     "guid": "",
     "layoutOption": {
      "grid": true,
      "stack": true
     },
     "nuid": "5760a9cd-84c4-42e0-b800-453b24a5a20a",
     "origId": 745758590126529,
     "title": "Taxi Rides Dashboard",
     "version": "DashboardViewV1",
     "width": 1024
    }
   ],
   "environmentMetadata": {
    "base_environment": "",
    "environment_version": "2"
   },
   "inputWidgetPreferences": null,
   "language": "python",
   "notebookMetadata": {
    "mostRecentlyExecutedCommandWithImplicitDF": {
     "commandId": 745758590126493,
     "dataframes": [
      "_sqldf"
     ]
    },
    "pythonIndentUnit": 4
   },
   "notebookName": "Test Taxi Rides Data - Production",
   "widgets": {}
  },
  "language_info": {
   "name": "python"
  }
 },
 "nbformat": 4,
 "nbformat_minor": 0
}
