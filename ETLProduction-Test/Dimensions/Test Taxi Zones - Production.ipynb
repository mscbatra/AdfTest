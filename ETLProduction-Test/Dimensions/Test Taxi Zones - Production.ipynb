{
 "cells": [
  {
   "cell_type": "code",
   "execution_count": 0,
   "metadata": {
    "application/vnd.databricks.v1+cell": {
     "cellMetadata": {
      "byteLimit": 2048000,
      "rowLimit": 10000
     },
     "inputWidgets": {},
     "nuid": "4e852089-4e7c-44c3-ae43-29b41ee4a7a4",
     "showTitle": true,
     "tableResultSettingsMap": {},
     "title": "Without Unity Catalog - Authenticate to Data Lake using Access Key"
    }
   },
   "outputs": [],
   "source": [
    "# Run only if not using Unity Catalog\n",
    "\n",
    "# Replace the values: *** Data Lake Name ***, *** Data Lake Access Key ***\n",
    "\n",
    "#storage_account_name = \"*** Data Lake Name ***\"\n",
    "#storage_account_access_key = \"*** Data Lake Access Key ***\"\n",
    "\n",
    "#spark.conf.set(f\"fs.azure.account.key.{storage_account_name}.dfs.core.windows.net\", storage_account_access_key)"
   ]
  },
  {
   "cell_type": "markdown",
   "metadata": {
    "application/vnd.databricks.v1+cell": {
     "cellMetadata": {},
     "inputWidgets": {},
     "nuid": "d8531b69-5a15-436d-9b72-c1c4f4bcb6fc",
     "showTitle": false,
     "tableResultSettingsMap": {},
     "title": ""
    }
   },
   "source": [
    "### A. Define File Path"
   ]
  },
  {
   "cell_type": "code",
   "execution_count": 0,
   "metadata": {
    "application/vnd.databricks.v1+cell": {
     "cellMetadata": {
      "byteLimit": 2048000,
      "rowLimit": 10000
     },
     "inputWidgets": {},
     "nuid": "79137dfa-a55d-462d-9ec9-2dfdb1798a12",
     "showTitle": true,
     "tableResultSettingsMap": {},
     "title": "Define file path as variable"
    }
   },
   "outputs": [],
   "source": [
    "# Replace the values: ***ContainerName***, ***DataLakeName*** and file path (if required)\n",
    "\n",
    "taxiZonesFilePath = \"abfss://taxidata@mstrainingdatalake.dfs.core.windows.net/Raw/TaxiZones.csv\"\n",
    "\n",
    "print(taxiZonesFilePath)"
   ]
  },
  {
   "cell_type": "markdown",
   "metadata": {
    "application/vnd.databricks.v1+cell": {
     "cellMetadata": {},
     "inputWidgets": {},
     "nuid": "2cf85a4b-cf8c-450b-b647-f5902336efe0",
     "showTitle": false,
     "tableResultSettingsMap": {},
     "title": ""
    }
   },
   "source": [
    "### B. Read File by Applying Schema"
   ]
  },
  {
   "cell_type": "code",
   "execution_count": 0,
   "metadata": {
    "application/vnd.databricks.v1+cell": {
     "cellMetadata": {
      "byteLimit": 2048000,
      "rowLimit": 10000
     },
     "inputWidgets": {},
     "nuid": "edef4113-8c16-412d-9811-55e18c2bf3b4",
     "showTitle": true,
     "tableResultSettingsMap": {},
     "title": "Define schema"
    }
   },
   "outputs": [],
   "source": [
    "from pyspark.sql.types import *\n",
    "from pyspark.sql.functions import *\n",
    "\n",
    "\"\"\"\n",
    "# Create schema for Taxi Zones Data\n",
    "\n",
    "yellowTaxiSchema = (\n",
    "                        StructType\n",
    "                        ([ \n",
    "                            StructField(\"VendorId\"               , IntegerType()   , True),\n",
    "                            StructField(\"lpep_pickup_datetime\"   , TimestampType() , True),\n",
    "                            StructField(\"lpep_dropoff_datetime\"  , TimestampType() , True),\n",
    "                            StructField(\"passenger_count\"        , DoubleType()    , True),\n",
    "                            StructField(\"trip_distance\"          , DoubleType()    , True),\n",
    "                            StructField(\"RatecodeID\"             , DoubleType()    , True),\n",
    "                            StructField(\"store_and_fwd_flag\"     , StringType()    , True),\n",
    "                            StructField(\"PULocationID\"           , IntegerType()   , True),\n",
    "                            StructField(\"DOLocationID\"           , IntegerType()   , True),\n",
    "                            StructField(\"payment_type\"           , IntegerType()   , True),\n",
    "                            StructField(\"fare_amount\"            , DoubleType()    , True),\n",
    "                            StructField(\"extra\"                  , DoubleType()    , True),\n",
    "                            StructField(\"mta_tax\"                , DoubleType()    , True),\n",
    "                            StructField(\"tip_amount\"             , DoubleType()    , True),\n",
    "                            StructField(\"tolls_amount\"           , DoubleType()    , True),\n",
    "                            StructField(\"improvement_surcharge\"  , DoubleType()    , True),\n",
    "                            StructField(\"total_amount\"           , DoubleType()    , True),\n",
    "                            StructField(\"congestion_surcharge\"   , DoubleType()    , True),\n",
    "                            StructField(\"airport_fee\"            , DoubleType()    , True)\n",
    "                        ])\n",
    "                   )\n",
    "\n",
    "\"\"\""
   ]
  },
  {
   "cell_type": "code",
   "execution_count": 0,
   "metadata": {
    "application/vnd.databricks.v1+cell": {
     "cellMetadata": {
      "byteLimit": 2048000,
      "rowLimit": 10000
     },
     "inputWidgets": {},
     "nuid": "8e85ecc5-2e9a-429e-9dae-7c4d6381db75",
     "showTitle": true,
     "tableResultSettingsMap": {},
     "title": "Read data by passing schema"
    }
   },
   "outputs": [],
   "source": [
    "# Create DataFrame by applying the schema\n",
    "\n",
    "taxiZonesDF = (\n",
    "                    spark\n",
    "                        .read\n",
    "                        .option(\"header\", \"true\")\n",
    "\n",
    "                        .option(\"inferSchema\", \"true\")\n",
    "                        #.schema(yellowTaxiSchema)\n",
    "\n",
    "                        .csv(taxiZonesFilePath)\n",
    "                )\n",
    "\n",
    "# Print schema\n",
    "taxiZonesDF.printSchema()"
   ]
  },
  {
   "cell_type": "markdown",
   "metadata": {
    "application/vnd.databricks.v1+cell": {
     "cellMetadata": {},
     "inputWidgets": {},
     "nuid": "436d5657-9a40-4592-a71c-5c97a4eea798",
     "showTitle": false,
     "tableResultSettingsMap": {},
     "title": ""
    }
   },
   "source": [
    "### D. Transform Data"
   ]
  },
  {
   "cell_type": "markdown",
   "metadata": {
    "application/vnd.databricks.v1+cell": {
     "cellMetadata": {},
     "inputWidgets": {},
     "nuid": "dee049fe-5a8c-4577-8d3d-1286b86a6494",
     "showTitle": false,
     "tableResultSettingsMap": {},
     "title": ""
    }
   },
   "source": [
    "#### D.2. Rename Columns"
   ]
  },
  {
   "cell_type": "code",
   "execution_count": 0,
   "metadata": {
    "application/vnd.databricks.v1+cell": {
     "cellMetadata": {
      "byteLimit": 2048000,
      "rowLimit": 10000
     },
     "inputWidgets": {},
     "nuid": "2541a7c8-4923-4d65-8447-80afb4295a08",
     "showTitle": true,
     "tableResultSettingsMap": {},
     "title": "Use withColumnRenamed"
    }
   },
   "outputs": [],
   "source": [
    "taxiZonesDF = (\n",
    "                   taxiZonesDF                        \n",
    "                        \n",
    "                        .withColumnRenamed(\"service_zone\", \"ServiceZone\")    \n",
    "               )"
   ]
  },
  {
   "cell_type": "markdown",
   "metadata": {
    "application/vnd.databricks.v1+cell": {
     "cellMetadata": {},
     "inputWidgets": {},
     "nuid": "4e7b2223-b7ac-47d6-9c84-9bd21b899b28",
     "showTitle": false,
     "tableResultSettingsMap": {},
     "title": ""
    }
   },
   "source": [
    "### E. Save Data to Data Lake as Spark (Delta) Table"
   ]
  },
  {
   "cell_type": "markdown",
   "metadata": {
    "application/vnd.databricks.v1+cell": {
     "cellMetadata": {},
     "inputWidgets": {},
     "nuid": "e56d48bf-2678-4007-8c20-e345d122ad63",
     "showTitle": false,
     "tableResultSettingsMap": {},
     "title": ""
    }
   },
   "source": [
    "#### E.1. Create Catalog and Schema in Unity Catalog"
   ]
  },
  {
   "cell_type": "code",
   "execution_count": 0,
   "metadata": {
    "application/vnd.databricks.v1+cell": {
     "cellMetadata": {
      "byteLimit": 2048000,
      "implicitDf": true,
      "rowLimit": 10000
     },
     "inputWidgets": {},
     "nuid": "488b5b74-850d-4a1c-b126-508ff5a4ab1d",
     "showTitle": true,
     "tableResultSettingsMap": {},
     "title": "Using SQL"
    }
   },
   "outputs": [],
   "source": [
    "%sql\n",
    "\n",
    "CREATE CATALOG IF NOT EXISTS taxicatalog;\n",
    "\n",
    "CREATE SCHEMA IF NOT EXISTS taxicatalog.rides;\n",
    "\n",
    "-- For Hive Metastore\n",
    "-- CREATE SCHEMA IF NOT EXISTS hive_metastore.rides;"
   ]
  },
  {
   "cell_type": "markdown",
   "metadata": {
    "application/vnd.databricks.v1+cell": {
     "cellMetadata": {},
     "inputWidgets": {},
     "nuid": "b86efc10-dab8-42b3-b95e-5576a5892455",
     "showTitle": false,
     "tableResultSettingsMap": {},
     "title": ""
    }
   },
   "source": [
    "#### E.2. Save DataFrame as Delta Table"
   ]
  },
  {
   "cell_type": "code",
   "execution_count": 0,
   "metadata": {
    "application/vnd.databricks.v1+cell": {
     "cellMetadata": {
      "byteLimit": 2048000,
      "rowLimit": 10000
     },
     "inputWidgets": {},
     "nuid": "456a4420-2f91-4149-b895-b7124217d879",
     "showTitle": true,
     "tableResultSettingsMap": {},
     "title": "Store data in delta format"
    }
   },
   "outputs": [],
   "source": [
    "(\n",
    "    taxiZonesDF\n",
    "        .write\n",
    "\n",
    "        .mode(\"overwrite\")\n",
    "\n",
    "        .format(\"delta\")\n",
    "\n",
    "        .saveAsTable(\"taxicatalog.rides.taxizones\")\n",
    ")"
   ]
  },
  {
   "cell_type": "code",
   "execution_count": 0,
   "metadata": {
    "application/vnd.databricks.v1+cell": {
     "cellMetadata": {},
     "inputWidgets": {},
     "nuid": "12e83bca-a9ae-4567-9237-bf48525d557b",
     "showTitle": false,
     "tableResultSettingsMap": {},
     "title": ""
    }
   },
   "outputs": [],
   "source": []
  }
 ],
 "metadata": {
  "application/vnd.databricks.v1+notebook": {
   "computePreferences": null,
   "dashboards": [
    {
     "elements": [],
     "globalVars": {},
     "guid": "",
     "layoutOption": {
      "grid": true,
      "stack": true
     },
     "nuid": "5760a9cd-84c4-42e0-b800-453b24a5a20a",
     "origId": 1316029676339701,
     "title": "Taxi Rides Dashboard",
     "version": "DashboardViewV1",
     "width": 1024
    }
   ],
   "environmentMetadata": {
    "base_environment": "",
    "environment_version": "2"
   },
   "inputWidgetPreferences": null,
   "language": "python",
   "notebookMetadata": {
    "mostRecentlyExecutedCommandWithImplicitDF": {
     "commandId": 1316029676339696,
     "dataframes": [
      "_sqldf"
     ]
    },
    "pythonIndentUnit": 4
   },
   "notebookName": "Test Taxi Zones - Production",
   "widgets": {}
  },
  "language_info": {
   "name": "python"
  }
 },
 "nbformat": 4,
 "nbformat_minor": 0
}
