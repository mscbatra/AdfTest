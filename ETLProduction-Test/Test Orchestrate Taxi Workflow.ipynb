{
 "cells": [
  {
   "cell_type": "code",
   "execution_count": 0,
   "metadata": {
    "application/vnd.databricks.v1+cell": {
     "cellMetadata": {
      "byteLimit": 2048000,
      "rowLimit": 10000
     },
     "inputWidgets": {},
     "nuid": "cc3db732-ee96-45bb-b87a-3a01dd7f7ec4",
     "showTitle": false,
     "tableResultSettingsMap": {},
     "title": ""
    }
   },
   "outputs": [],
   "source": [
    "month = \"202501\"\n",
    "\n",
    "returnedValue = dbutils.notebook.run(    \n",
    "                                        \"Facts/Test Taxi Rides Data - Production\",   # Notebook to run\n",
    "                                    \n",
    "                                        300,                                   # Timeout in seconds\n",
    "                                    \n",
    "                                        {\"ProcessMonth\": month}                # Parameters (widgets)\n",
    "                                    )\n",
    "\n",
    "print (returnedValue)"
   ]
  },
  {
   "cell_type": "code",
   "execution_count": 0,
   "metadata": {
    "application/vnd.databricks.v1+cell": {
     "cellMetadata": {},
     "inputWidgets": {},
     "nuid": "9b3e9801-fec4-4585-9f29-2c018621e5ea",
     "showTitle": false,
     "tableResultSettingsMap": {},
     "title": ""
    }
   },
   "outputs": [],
   "source": []
  }
 ],
 "metadata": {
  "application/vnd.databricks.v1+notebook": {
   "computePreferences": null,
   "dashboards": [],
   "environmentMetadata": {
    "base_environment": "",
    "environment_version": "2"
   },
   "inputWidgetPreferences": null,
   "language": "python",
   "notebookMetadata": {
    "pythonIndentUnit": 4
   },
   "notebookName": "Test Orchestrate Taxi Workflow",
   "widgets": {}
  },
  "language_info": {
   "name": "python"
  }
 },
 "nbformat": 4,
 "nbformat_minor": 0
}
